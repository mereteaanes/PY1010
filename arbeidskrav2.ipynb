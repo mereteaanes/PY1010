{
 "cells": [
  {
   "cell_type": "markdown",
   "id": "75231ea5-00a0-4659-a5c4-e88277c9cda4",
   "metadata": {},
   "source": [
    "## Oppgave 1"
   ]
  },
  {
   "cell_type": "code",
   "execution_count": 2,
   "id": "518140a4-347e-41f2-a5f6-74864052c36e",
   "metadata": {},
   "outputs": [
    {
     "name": "stdin",
     "output_type": "stream",
     "text": [
      "Hvilket år er du født?  1988\n"
     ]
    },
    {
     "name": "stdout",
     "output_type": "stream",
     "text": [
      "Du er 36 år i 2024\n"
     ]
    }
   ],
   "source": [
    "alder = 2024 - int(input('Hvilket år er du født? ') )\n",
    "\n",
    "print(f\"Du er {alder} år i 2024\")"
   ]
  },
  {
   "cell_type": "markdown",
   "id": "886b0c95-6e34-4ffe-8a08-6159775a7633",
   "metadata": {},
   "source": [
    "## Oppgave 2"
   ]
  },
  {
   "cell_type": "code",
   "execution_count": 21,
   "id": "4e8e4088-785b-4002-bf05-ee4b33e9f0ed",
   "metadata": {},
   "outputs": [
    {
     "name": "stdin",
     "output_type": "stream",
     "text": [
      "Skriv inn antall elever: 9\n"
     ]
    },
    {
     "name": "stdout",
     "output_type": "stream",
     "text": [
      "Du må kjøpe 3 pizza\n"
     ]
    }
   ],
   "source": [
    "antall_elever = int(input('Skriv inn antall elever:' ))\n",
    "\n",
    "n_pizza = antall_elever / 4.0\n",
    "\n",
    "if int(n_pizza) < n_pizza:\n",
    "    n_pizza += 1\n",
    "\n",
    "print(f\"Du må kjøpe {int(n_pizza)} pizza\")\n"
   ]
  },
  {
   "cell_type": "markdown",
   "id": "001a8dda-1ab4-4ab3-8408-3c5af225a0e3",
   "metadata": {},
   "source": [
    "## Oppgave 3"
   ]
  },
  {
   "cell_type": "code",
   "execution_count": 24,
   "id": "ba580083-acd0-40b6-a951-d72498e2e5c1",
   "metadata": {},
   "outputs": [
    {
     "name": "stdin",
     "output_type": "stream",
     "text": [
      "Skriv inn gradtallet: 30\n"
     ]
    },
    {
     "name": "stdout",
     "output_type": "stream",
     "text": [
      "'30.0' grader er '0.5235987755982988 i radianer\n"
     ]
    }
   ],
   "source": [
    "import numpy as np\n",
    "\n",
    "v_grad = float(input('Skriv inn gradtallet:' ))\n",
    "\n",
    "v_rad = v_grad * np.pi / 180\n",
    "\n",
    "print(f\"'{v_grad}' grader er '{v_rad} i radianer\")"
   ]
  },
  {
   "cell_type": "markdown",
   "id": "4dc25ebd-bdb9-49ee-97ad-08930d4fb4f2",
   "metadata": {},
   "source": [
    "## Oppgave 4 a"
   ]
  },
  {
   "cell_type": "code",
   "execution_count": 60,
   "id": "cdc366f7-a1f4-4fb8-804c-307a8ef357c6",
   "metadata": {},
   "outputs": [],
   "source": [
    "data = {\n",
    "    \"Norge\": [\"Oslo\", 0.634],\n",
    "    \"England\": [\"London\", 8.982],\n",
    "    \"Frankrike\": [\"Paris\", 2.161],\n",
    "    \"Italia\": [\"Roma\", 2.873]\n",
    "}"
   ]
  },
  {
   "cell_type": "markdown",
   "id": "5d867bb6-059c-47c9-904a-92c830332d14",
   "metadata": {},
   "source": [
    "## Oppgave 4 b"
   ]
  },
  {
   "cell_type": "code",
   "execution_count": 56,
   "id": "049d1969-e467-4382-b9aa-7d8e8da66475",
   "metadata": {},
   "outputs": [
    {
     "name": "stdin",
     "output_type": "stream",
     "text": [
      "Skrive et land: England\n"
     ]
    },
    {
     "name": "stdout",
     "output_type": "stream",
     "text": [
      "London er hovedstaden i England og det er 8.982 mill. innbyggere i London\n"
     ]
    }
   ],
   "source": [
    "land = input(\"Skrive et land:\")\n",
    "\n",
    "by, antall = data[land]\n",
    "\n",
    "print(f\"{by} er hovedstaden i {land} og det er {antall} mill. innbyggere i {by}\")"
   ]
  },
  {
   "cell_type": "markdown",
   "id": "066841a6-ede1-4bde-9b9c-d2befa10549f",
   "metadata": {},
   "source": [
    "## Oppgave 4 c"
   ]
  },
  {
   "cell_type": "code",
   "execution_count": 64,
   "id": "eb29900a-89f8-4c34-90e0-61c28efe4707",
   "metadata": {},
   "outputs": [
    {
     "name": "stdin",
     "output_type": "stream",
     "text": [
      "Skrive et land: USA\n",
      "Hva er hovedstanden til USA? Washington DC\n",
      "Hvor er antall av Washington DC i mill? 0.7\n"
     ]
    },
    {
     "data": {
      "text/plain": [
       "{'Norge': ['Oslo', 0.634],\n",
       " 'England': ['London', 8.982],\n",
       " 'Frankrike': ['Paris', 2.161],\n",
       " 'Italia': ['Roma', 2.873],\n",
       " 'USA': ['Washington DC', 0.7]}"
      ]
     },
     "execution_count": 64,
     "metadata": {},
     "output_type": "execute_result"
    }
   ],
   "source": [
    "land = input(\"Skrive et land:\")\n",
    "\n",
    "if land not in data:\n",
    "    by = input(f\"Hva er hovedstanden til {land}?\")\n",
    "    antall = float(input(f\"Hvor er antall av {by} i mill?\"))\n",
    "    data[land] = [by, antall]\n",
    "\n",
    "data"
   ]
  },
  {
   "cell_type": "markdown",
   "id": "9d943d43-819a-4acb-a86a-fa6e3d775949",
   "metadata": {},
   "source": [
    "## Oppgave 5\n"
   ]
  },
  {
   "cell_type": "code",
   "execution_count": 71,
   "id": "1c0a09ca-648e-455f-80e7-9d8754c31523",
   "metadata": {},
   "outputs": [
    {
     "name": "stdin",
     "output_type": "stream",
     "text": [
      "Skrive del A: 5\n",
      "Skrive del B: 6\n"
     ]
    },
    {
     "name": "stdout",
     "output_type": "stream",
     "text": [
      "Areal er 24.817477042468106 og omkrets er 21.66423130988114\n"
     ]
    }
   ],
   "source": [
    "a = float(input(f\"Skrive del A:\"))\n",
    "b = float(input(f\"Skrive del B:\"))\n",
    "\n",
    "rd = a / 2.0\n",
    "\n",
    "areal = ((np.pi * rd**2) / 2.) + ((a * b) / 2.)\n",
    "omkrets = ((2 * np.pi * rd) / 2) + b + np.sqrt(a**2 + b**2)\n",
    "\n",
    "print(f\"Areal er {areal} og omkrets er {omkrets}\")"
   ]
  },
  {
   "cell_type": "markdown",
   "id": "234a29af-79ea-4498-98fc-bec4c96074ad",
   "metadata": {},
   "source": [
    "## Oppgave 6"
   ]
  },
  {
   "cell_type": "code",
   "execution_count": 78,
   "id": "be036b77-2f39-4186-9c3b-344ecae162d4",
   "metadata": {},
   "outputs": [
    {
     "data": {
      "text/plain": [
       "[<matplotlib.lines.Line2D at 0x1f4f3ecabd0>]"
      ]
     },
     "execution_count": 78,
     "metadata": {},
     "output_type": "execute_result"
    },
    {
     "data": {
      "image/png": "[encoded data removed]",
      "text/plain": [
       "<Figure size 640x480 with 1 Axes>"
      ]
     },
     "metadata": {},
     "output_type": "display_data"
    }
   ],
   "source": [
    "import matplotlib.pyplot as plt\n",
    "\n",
    "linspace = np.linspace(-10, 10, 200)\n",
    "\n",
    "data = []\n",
    "for val in linspace:\n",
    "    data.append(-val**2 - 5)\n",
    "\n",
    "plt.plot(linspace, data, \"D-g\", linewidth=4, ms=10)"
   ]
  },
  {
   "cell_type": "code",
   "execution_count": null,
   "id": "cfbd15bd-b409-4e1b-ac41-627f736812a0",
   "metadata": {},
   "outputs": [],
   "source": []
  }
 ],
 "metadata": {
  "kernelspec": {
   "display_name": "Python 3 (ipykernel)",
   "language": "python",
   "name": "python3"
  },
  "language_info": {
   "codemirror_mode": {
    "name": "ipython",
    "version": 3
   },
   "file_extension": ".py",
   "mimetype": "text/x-python",
   "name": "python",
   "nbconvert_exporter": "python",
   "pygments_lexer": "ipython3",
   "version": "3.12.4"
  }
 },
 "nbformat": 4,
 "nbformat_minor": 5
}
